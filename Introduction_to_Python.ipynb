{
 "cells": [
  {
   "cell_type": "markdown",
   "metadata": {},
   "source": [
    "# What is Python?\n",
    "The first release of Python was in 1991. Since then, Python has arguably become the most well-known programming language in existence.\n",
    "\n",
    "Python is a high-level, multipurpose programming language that is used in a wide range of domains and technical fields. The exxecutive sumary of python is as follows:\n",
    "\n",
    "Python is an interpreted, object-oriented, high-level programming language with dy‐ namic semantics. Its high-level built in data structures, combined with dynamic typing and dynamic binding, make it very attractive for Rapid Application Development, as well as for use as a scripting or glue language to connect existing components together. Python’s simple, easy to learn syntax emphasizes readability and therefore reduces the cost of program maintenance. Python supports modules and packages, which encourages program modularity and code reuse. The Python interpreter and the extensive standard library are available in source or binary form without charge for all major platforms, and can be freely distributed.\n",
    "\n",
    "Python is used by beginners, intermediate and professional coders to develop applications for a variety of purposes. In the Context of Finance, Python is extremely well-known and used in industry. The growing need for fast and exhasutive quantitative analysis make Python and programming essential tools to have when going into Finance.\n",
    "\n",
    "####  Open Source \n",
    "The Open source features of python and programming in general make the language extremely effective through the benefits of network effects. As we will see, a major feature of Python as an ecosystem, compared to just being a programming language, is the availability of a large number of libraries and tools. \n",
    "\n",
    "#### A word of advice if you are new\n",
    "If you are new to coding, embrace the fact that coding takes time to understand, can be frustrating, but is worth it in the end.\n",
    "\n",
    "---\n"
   ]
  },
  {
   "cell_type": "markdown",
   "metadata": {},
   "source": [
    "## Data Types and Structures\n",
    "In Python, everything is an \"object\". These objects can take the form of data types, or data structures.\n",
    "There a a few important data types that are important to learn and understand. These allow us to define things such as integeres, decimals or words in python. Along with this, and also important, are data structures. These allow us to fit data types into specific sets, tie data types together and play order them in diffrent ways to effectively work with them.\n"
   ]
  },
  {
   "cell_type": "markdown",
   "metadata": {},
   "source": [
    "#### Integers \n",
    "One of the most fundamental data types are integers. Since python is dynamically typed, it infers the type of an object at runtime. This is opposed to other languages that are statically typed where the type is defined ahead of time."
   ]
  },
  {
   "cell_type": "code",
   "execution_count": 2,
   "metadata": {},
   "outputs": [
    {
     "data": {
      "text/plain": [
       "int"
      ]
     },
     "execution_count": 2,
     "metadata": {},
     "output_type": "execute_result"
    }
   ],
   "source": [
    "#An integer is a real whole number\n",
    "a = 10\n",
    "type(a)\n",
    "\n",
    "# An int can also be negative\n",
    "\n",
    "b = -1\n",
    "type(b)"
   ]
  },
  {
   "cell_type": "code",
   "execution_count": 4,
   "metadata": {},
   "outputs": [
    {
     "data": {
      "text/plain": [
       "4"
      ]
     },
     "execution_count": 4,
     "metadata": {},
     "output_type": "execute_result"
    }
   ],
   "source": [
    "#Notice we can see how many bits this integer represents in memory\n",
    "a.bit_length()"
   ]
  },
  {
   "cell_type": "code",
   "execution_count": 6,
   "metadata": {},
   "outputs": [
    {
     "data": {
      "text/plain": [
       "['__abs__',\n",
       " '__add__',\n",
       " '__and__',\n",
       " '__bool__',\n",
       " '__ceil__',\n",
       " '__class__',\n",
       " '__delattr__',\n",
       " '__dir__',\n",
       " '__divmod__',\n",
       " '__doc__',\n",
       " '__eq__',\n",
       " '__float__',\n",
       " '__floor__',\n",
       " '__floordiv__',\n",
       " '__format__',\n",
       " '__ge__',\n",
       " '__getattribute__',\n",
       " '__getnewargs__',\n",
       " '__gt__',\n",
       " '__hash__',\n",
       " '__index__',\n",
       " '__init__',\n",
       " '__init_subclass__',\n",
       " '__int__',\n",
       " '__invert__',\n",
       " '__le__',\n",
       " '__lshift__',\n",
       " '__lt__',\n",
       " '__mod__',\n",
       " '__mul__',\n",
       " '__ne__',\n",
       " '__neg__',\n",
       " '__new__',\n",
       " '__or__',\n",
       " '__pos__',\n",
       " '__pow__',\n",
       " '__radd__',\n",
       " '__rand__',\n",
       " '__rdivmod__',\n",
       " '__reduce__',\n",
       " '__reduce_ex__',\n",
       " '__repr__',\n",
       " '__rfloordiv__',\n",
       " '__rlshift__',\n",
       " '__rmod__',\n",
       " '__rmul__',\n",
       " '__ror__',\n",
       " '__round__',\n",
       " '__rpow__',\n",
       " '__rrshift__',\n",
       " '__rshift__',\n",
       " '__rsub__',\n",
       " '__rtruediv__',\n",
       " '__rxor__',\n",
       " '__setattr__',\n",
       " '__sizeof__',\n",
       " '__str__',\n",
       " '__sub__',\n",
       " '__subclasshook__',\n",
       " '__truediv__',\n",
       " '__trunc__',\n",
       " '__xor__',\n",
       " 'as_integer_ratio',\n",
       " 'bit_length',\n",
       " 'conjugate',\n",
       " 'denominator',\n",
       " 'from_bytes',\n",
       " 'imag',\n",
       " 'numerator',\n",
       " 'real',\n",
       " 'to_bytes']"
      ]
     },
     "execution_count": 6,
     "metadata": {},
     "output_type": "execute_result"
    }
   ],
   "source": [
    "#Integers in python can be arbitrarily large\n",
    "#Use the dir function to find out all of the methods you can call on an integer\n",
    "dir(a)"
   ]
  },
  {
   "cell_type": "code",
   "execution_count": 9,
   "metadata": {},
   "outputs": [
    {
     "data": {
      "text/plain": [
       "33220"
      ]
     },
     "execution_count": 9,
     "metadata": {},
     "output_type": "execute_result"
    }
   ],
   "source": [
    "#Arbitrarily large integer\n",
    "large = 10**10000\n",
    "large.bit_length()"
   ]
  },
  {
   "cell_type": "code",
   "execution_count": 14,
   "metadata": {},
   "outputs": [
    {
     "data": {
      "text/plain": [
       "0.25"
      ]
     },
     "execution_count": 14,
     "metadata": {},
     "output_type": "execute_result"
    }
   ],
   "source": [
    "#Operations\n",
    "#Extremley important : If you perform an operation with an int returns an int object\n",
    "#This is important when you are doing alot of computations because a rounding error may occur\n",
    "#Notice that jupyter adjusts for this but be weary of it\n",
    "a = 1\n",
    "b = 4\n",
    "a/b"
   ]
  },
  {
   "cell_type": "markdown",
   "metadata": {},
   "source": [
    "\n",
    "\n",
    "#### Floats\n",
    "Float objects are all real numbers (including those with decimal places). an object is implictly declared a float when you add a decimal place to the number."
   ]
  },
  {
   "cell_type": "code",
   "execution_count": 15,
   "metadata": {},
   "outputs": [
    {
     "data": {
      "text/plain": [
       "0.25"
      ]
     },
     "execution_count": 15,
     "metadata": {},
     "output_type": "execute_result"
    }
   ],
   "source": [
    "1.0/4"
   ]
  },
  {
   "cell_type": "code",
   "execution_count": 19,
   "metadata": {},
   "outputs": [
    {
     "data": {
      "text/plain": [
       "float"
      ]
     },
     "execution_count": 19,
     "metadata": {},
     "output_type": "execute_result"
    }
   ],
   "source": [
    "a = 0.35\n",
    "type(a)"
   ]
  },
  {
   "cell_type": "code",
   "execution_count": 21,
   "metadata": {},
   "outputs": [
    {
     "data": {
      "text/plain": [
       "0.44999999999999996"
      ]
     },
     "execution_count": 21,
     "metadata": {},
     "output_type": "execute_result"
    }
   ],
   "source": [
    "#Notice that floats are only represented up to a certain degree of accuracy (this is due to binary language)\n",
    "#You do not have to understand why, but you have to know that its a thing\n",
    "#If you think about it, its because its kind of tough to find get 0.35 using only twos...\n",
    "a+0.1"
   ]
  },
  {
   "cell_type": "markdown",
   "metadata": {},
   "source": [
    "Explanation: \n",
    "The reason for this is that floats are internally represented in binary format; that is, a decimal number 0 < n < 1 is represented by a series of the form n = x/2 + 4/y + 8/z + . . . .\n",
    "For certain floating-point numbers the binary representation might involve a large number of elements or might even be an infinite series."
   ]
  },
  {
   "cell_type": "code",
   "execution_count": 24,
   "metadata": {
    "scrolled": true
   },
   "outputs": [
    {
     "data": {
      "text/plain": [
       "(1, 2)"
      ]
     },
     "execution_count": 24,
     "metadata": {},
     "output_type": "execute_result"
    }
   ],
   "source": [
    "c = 0.5\n",
    "c.as_integer_ratio()"
   ]
  },
  {
   "cell_type": "code",
   "execution_count": 25,
   "metadata": {},
   "outputs": [
    {
     "data": {
      "text/plain": [
       "(3152519739159347, 9007199254740992)"
      ]
     },
     "execution_count": 25,
     "metadata": {},
     "output_type": "execute_result"
    }
   ],
   "source": [
    "#One half is store exactly because it has an exact (finite) binary representation as 0.5 = 1/2\n",
    "#0.35 = 7/20, so\n",
    "a.as_integer_ratio()"
   ]
  },
  {
   "cell_type": "code",
   "execution_count": 27,
   "metadata": {},
   "outputs": [
    {
     "data": {
      "text/plain": [
       "Context(prec=28, rounding=ROUND_HALF_EVEN, Emin=-999999, Emax=999999, capitals=1, clamp=0, flags=[], traps=[InvalidOperation, DivisionByZero, Overflow])"
      ]
     },
     "execution_count": 27,
     "metadata": {},
     "output_type": "execute_result"
    }
   ],
   "source": [
    "#This may seem nit-picky, but it is of high importance for certain financial applications\n",
    "#There are alternatives to solve this issue\n",
    "import decimal \n",
    "from decimal import Decimal\n",
    "decimal.getcontext()"
   ]
  },
  {
   "cell_type": "code",
   "execution_count": 29,
   "metadata": {},
   "outputs": [
    {
     "data": {
      "text/plain": [
       "Decimal('0.09090909090909090909090909091')"
      ]
     },
     "execution_count": 29,
     "metadata": {},
     "output_type": "execute_result"
    }
   ],
   "source": [
    "d = Decimal(1)/Decimal(11)\n",
    "d"
   ]
  },
  {
   "cell_type": "code",
   "execution_count": 31,
   "metadata": {},
   "outputs": [
    {
     "data": {
      "text/plain": [
       "Decimal('0.09091')"
      ]
     },
     "execution_count": 31,
     "metadata": {},
     "output_type": "execute_result"
    }
   ],
   "source": [
    "#Change the precision by changing the respective attribute\n",
    "decimal.getcontext().prec = 4\n",
    "e = Decimal(1) / Decimal(11)\n",
    "e"
   ]
  },
  {
   "cell_type": "code",
   "execution_count": 32,
   "metadata": {},
   "outputs": [],
   "source": [
    "#Why is this cool?\n",
    "#It may be necessary to go beyonf the 64 bit double precision standard in some instances, use this module to do so!"
   ]
  },
  {
   "cell_type": "markdown",
   "metadata": {},
   "source": [
    "## Install\n"
   ]
  },
  {
   "cell_type": "markdown",
   "metadata": {},
   "source": [
    "Installing anything from IDEs to packages will be essential in the journey to becoming a great coder. One of the first thigns one can do is check if he/she has installed Anaconda or Python is to test wether python is downloaded. In the terminal, type:\n",
    "<br />\n",
    " \n",
    "**python**\n",
    "\n",
    "<br />\n",
    " \n",
    "Generally, to install anything, type :\n",
    "\n",
    "**install thing**\n",
    "\n",
    "**e.g : install numpy**\n"
   ]
  },
  {
   "cell_type": "markdown",
   "metadata": {},
   "source": [
    "## Importing \n",
    "Importing is a crucial part of python as it allows python users toaccess the set of libraries that. enhance the basic interpreter in diffrent directions. We will look at the basics of an import statement below:\n",
    "\n",
    "**from [place] import [thing]**\n",
    "\n",
    "**import [thing] as [name]**\n",
    "\n",
    "A few special features about the import statement :\n",
    "- when importing everything from a  library - use the * import (star import)"
   ]
  },
  {
   "cell_type": "code",
   "execution_count": 4,
   "metadata": {},
   "outputs": [],
   "source": [
    "# We are looking to import something from somewhere, hence the syntax\n",
    "#Examples\n",
    "\n",
    "from math import *\n",
    "\n",
    "#We can also import a predownloaded package as desires using the import\n",
    "#statement directly and the \"as\" command \n",
    "\n",
    "import math as m"
   ]
  },
  {
   "cell_type": "markdown",
   "metadata": {},
   "source": [
    "For the purposes of Finance, we will be looking into more scientific oriented libraries. The libraries of interest to Finance oriented developpers are the following: \n",
    "\n",
    "- Numpy <br />\n",
    "NumPy provides a multidimensional array object to store homogenous or hetero‐ geneous data; it also provides optimized functions/methods to operate on this array object.\n",
    "<br />\n",
    "\n",
    "- pandas <br />\n",
    "pandas builds on NumPy and provides richer classes for the management and analysis of time series and tabular data; it is tightly integrated with matplotlib for plotting and PyTables for data storage and retrieval.\n",
    "<br />\n",
    "\n",
    "- SciPy <br />\n",
    "SciPy is a collection of sublibraries and functions implementing important stan‐ dard functionality often needed in science or finance; for example, you will find functions for cubic splines interpolation as well as for numerical integration.\n",
    "<br />\n",
    "\n",
    "- matplotlib <br />\n",
    "This is the most popular plotting and visualization library for Python, providing both 2D and 3D visualization capabilities.\n",
    "<br />\n",
    "\n",
    "Remember you can always go the the specific documentation of these libraries by looking them up online\n"
   ]
  },
  {
   "cell_type": "code",
   "execution_count": 13,
   "metadata": {},
   "outputs": [],
   "source": [
    "#Default Import statements for these three libraries\n",
    "\n",
    "import numpy as np \n",
    "import pandas as pd\n",
    "import matplotlib.pyplot as plt\n",
    "import scipy as sp"
   ]
  },
  {
   "cell_type": "markdown",
   "metadata": {},
   "source": [
    "To finish off our section on importing, importing will generally be used to bring a tooklit you need to use into python. Although many helpful toolkits are built in to python, over the years, there have been many other toolkits built by developpers to enhance python functionalities for everyone. These tend to be what developpers import into their code.\n",
    "\n",
    "---\n"
   ]
  },
  {
   "cell_type": "markdown",
   "metadata": {},
   "source": [
    "## Efficiency and Complexity\n",
    "Python is far from being the most efficient programming language. Its simple syntax has its downsides: due to the very nature of Python being an interpreted language, the prejudice persists that Python generally is too slow for compute-intensive tasks in finance. There are effectively three types of strateigies to reduce time complexity in your code:\n",
    "\n",
    "**Paradigm** <br />\n",
    "In general, many different ways can lead to the same result in Python, but with rather different performance characteristics; “simply” choosing the right way (e.g., a specific library) can improve results significantly.\n",
    "\n",
    "**Compiling** <br />\n",
    "Nowadays, there are several performance libraries available that provide compiled versions of important functions or that compile Python code statically or dynami‐ cally (at runtime or call time) to machine code, which can be orders of magnitude faster; popular ones are Cython and Numba.\n",
    "\n",
    "**Parallelization** <br />\n",
    "Many computational tasks, in particular in finance, can strongly benefit from parallel execution; this is nothing special to Python but something that can easily be accomplished with it.\n"
   ]
  },
  {
   "cell_type": "code",
   "execution_count": 14,
   "metadata": {},
   "outputs": [
    {
     "name": "stdout",
     "output_type": "stream",
     "text": [
      "82.1 µs ± 2.13 µs per loop (mean ± std. dev. of 7 runs, 10000 loops each)\n"
     ]
    }
   ],
   "source": [
    "# Create a integer to determine number of loops\n",
    "loops = 250\n",
    "#import math\n",
    "from math import *\n",
    "\n",
    "#\n",
    "a = range(1, loops) \n",
    "#Define a function to calculate the product of three withthe sum of the logarithm \n",
    "#of x and the cosine of x to the 2nd power\n",
    "def f(x):\n",
    "    return 3 * log(x) + cos(x) ** 2\n",
    "\n",
    "%timeit r = [f(x) for x in a]"
   ]
  },
  {
   "cell_type": "code",
   "execution_count": 8,
   "metadata": {},
   "outputs": [
    {
     "name": "stdout",
     "output_type": "stream",
     "text": [
      "9.03 µs ± 146 ns per loop (mean ± std. dev. of 7 runs, 100000 loops each)\n"
     ]
    }
   ],
   "source": [
    "import numpy as np\n",
    "a = np.arange(1, loops)\n",
    "%timeit r = 3 * np.log(a) + np.cos(a) ** 2"
   ]
  },
  {
   "cell_type": "markdown",
   "metadata": {},
   "source": [
    "As you can see depending on the way you decide ti implement the same action, runtime will vary"
   ]
  },
  {
   "cell_type": "code",
   "execution_count": null,
   "metadata": {},
   "outputs": [],
   "source": []
  }
 ],
 "metadata": {
  "kernelspec": {
   "display_name": "Python 3",
   "language": "python",
   "name": "python3"
  },
  "language_info": {
   "codemirror_mode": {
    "name": "ipython",
    "version": 3
   },
   "file_extension": ".py",
   "mimetype": "text/x-python",
   "name": "python",
   "nbconvert_exporter": "python",
   "pygments_lexer": "ipython3",
   "version": "3.8.5"
  }
 },
 "nbformat": 4,
 "nbformat_minor": 4
}
