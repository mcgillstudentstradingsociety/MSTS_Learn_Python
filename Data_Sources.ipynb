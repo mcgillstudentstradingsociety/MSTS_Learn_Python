{
 "cells": [
  {
   "cell_type": "markdown",
   "metadata": {},
   "source": [
    "<img src= \"MSTS_Logo.png\" style =\"width:400px;height:400px\"/>"
   ]
  },
  {
   "cell_type": "markdown",
   "metadata": {},
   "source": [
    "# Data\n",
    "So where and how do we get data?\n",
    "\n",
    "Generally, there are three different ways you will access data with Python for our purposes:\n",
    "\n",
    "1. Internally: you have direct access to a csv file from a directory\n",
    "2. Data API: You are accessing some data API avaialble on the internet (e.g pandas datareader)\n",
    "3. Exchange API: You are connecting to an exchange and grabbing data from there directly (e.g IBKR)\n",
    "\n",
    "When working with data in python, the data will likely come in a few different formats. We will begin by introducing the Excel format (CSV, xlsx) as well as HTML files. We will then see that we can turn our imported data sets from APIs directly into dataframes."
   ]
  },
  {
   "cell_type": "markdown",
   "metadata": {},
   "source": [
    "## Excel & CSVs\n",
    "In order to read a file, make sure it is in the same folder that you are currently working from.\n",
    "For the purposes of example, we have provided a Tesla Stock data file in this repository which you can add to your working directory to access the CSV with the following code."
   ]
  },
  {
   "cell_type": "code",
   "execution_count": 2,
   "metadata": {},
   "outputs": [],
   "source": [
    "import pandas as pd"
   ]
  },
  {
   "cell_type": "code",
   "execution_count": 6,
   "metadata": {},
   "outputs": [
    {
     "data": {
      "text/html": [
       "<div>\n",
       "<style scoped>\n",
       "    .dataframe tbody tr th:only-of-type {\n",
       "        vertical-align: middle;\n",
       "    }\n",
       "\n",
       "    .dataframe tbody tr th {\n",
       "        vertical-align: top;\n",
       "    }\n",
       "\n",
       "    .dataframe thead th {\n",
       "        text-align: right;\n",
       "    }\n",
       "</style>\n",
       "<table border=\"1\" class=\"dataframe\">\n",
       "  <thead>\n",
       "    <tr style=\"text-align: right;\">\n",
       "      <th></th>\n",
       "      <th>Date</th>\n",
       "      <th>High</th>\n",
       "      <th>Low</th>\n",
       "      <th>Open</th>\n",
       "      <th>Close</th>\n",
       "      <th>Volume</th>\n",
       "      <th>Adj Close</th>\n",
       "      <th>Returns</th>\n",
       "    </tr>\n",
       "  </thead>\n",
       "  <tbody>\n",
       "    <tr>\n",
       "      <th>0</th>\n",
       "      <td>2017-01-03</td>\n",
       "      <td>44.066002</td>\n",
       "      <td>42.192001</td>\n",
       "      <td>42.972000</td>\n",
       "      <td>43.397999</td>\n",
       "      <td>29616500.0</td>\n",
       "      <td>43.397999</td>\n",
       "      <td>NaN</td>\n",
       "    </tr>\n",
       "    <tr>\n",
       "      <th>1</th>\n",
       "      <td>2017-01-04</td>\n",
       "      <td>45.599998</td>\n",
       "      <td>42.862000</td>\n",
       "      <td>42.950001</td>\n",
       "      <td>45.397999</td>\n",
       "      <td>56067500.0</td>\n",
       "      <td>45.397999</td>\n",
       "      <td>0.046085</td>\n",
       "    </tr>\n",
       "    <tr>\n",
       "      <th>2</th>\n",
       "      <td>2017-01-05</td>\n",
       "      <td>45.495998</td>\n",
       "      <td>44.389999</td>\n",
       "      <td>45.284000</td>\n",
       "      <td>45.349998</td>\n",
       "      <td>29558500.0</td>\n",
       "      <td>45.349998</td>\n",
       "      <td>-0.001057</td>\n",
       "    </tr>\n",
       "    <tr>\n",
       "      <th>3</th>\n",
       "      <td>2017-01-06</td>\n",
       "      <td>46.062000</td>\n",
       "      <td>45.090000</td>\n",
       "      <td>45.386002</td>\n",
       "      <td>45.801998</td>\n",
       "      <td>27639500.0</td>\n",
       "      <td>45.801998</td>\n",
       "      <td>0.009967</td>\n",
       "    </tr>\n",
       "    <tr>\n",
       "      <th>4</th>\n",
       "      <td>2017-01-09</td>\n",
       "      <td>46.383999</td>\n",
       "      <td>45.599998</td>\n",
       "      <td>45.793999</td>\n",
       "      <td>46.256001</td>\n",
       "      <td>19897500.0</td>\n",
       "      <td>46.256001</td>\n",
       "      <td>0.009912</td>\n",
       "    </tr>\n",
       "  </tbody>\n",
       "</table>\n",
       "</div>"
      ],
      "text/plain": [
       "         Date       High        Low       Open      Close      Volume  \\\n",
       "0  2017-01-03  44.066002  42.192001  42.972000  43.397999  29616500.0   \n",
       "1  2017-01-04  45.599998  42.862000  42.950001  45.397999  56067500.0   \n",
       "2  2017-01-05  45.495998  44.389999  45.284000  45.349998  29558500.0   \n",
       "3  2017-01-06  46.062000  45.090000  45.386002  45.801998  27639500.0   \n",
       "4  2017-01-09  46.383999  45.599998  45.793999  46.256001  19897500.0   \n",
       "\n",
       "   Adj Close   Returns  \n",
       "0  43.397999       NaN  \n",
       "1  45.397999  0.046085  \n",
       "2  45.349998 -0.001057  \n",
       "3  45.801998  0.009967  \n",
       "4  46.256001  0.009912  "
      ]
     },
     "execution_count": 6,
     "metadata": {},
     "output_type": "execute_result"
    }
   ],
   "source": [
    "#We are assigning a pandas dataframe to variable df\n",
    "df = pd.read_csv('Tesla_Stock.csv')\n",
    "df.head()"
   ]
  },
  {
   "cell_type": "code",
   "execution_count": 5,
   "metadata": {},
   "outputs": [],
   "source": [
    "#Creating a file\n",
    "df.to_csv('The_Tesla_Stock.csv')\n",
    "#Now look in the folder you were working from, that file will be there\n",
    "#Use index=false if you dont want the old index"
   ]
  },
  {
   "cell_type": "code",
   "execution_count": 8,
   "metadata": {},
   "outputs": [
    {
     "data": {
      "text/html": [
       "<div>\n",
       "<style scoped>\n",
       "    .dataframe tbody tr th:only-of-type {\n",
       "        vertical-align: middle;\n",
       "    }\n",
       "\n",
       "    .dataframe tbody tr th {\n",
       "        vertical-align: top;\n",
       "    }\n",
       "\n",
       "    .dataframe thead th {\n",
       "        text-align: right;\n",
       "    }\n",
       "</style>\n",
       "<table border=\"1\" class=\"dataframe\">\n",
       "  <thead>\n",
       "    <tr style=\"text-align: right;\">\n",
       "      <th></th>\n",
       "      <th>Unnamed: 0</th>\n",
       "      <th>A</th>\n",
       "      <th>B</th>\n",
       "      <th>C</th>\n",
       "      <th>D</th>\n",
       "    </tr>\n",
       "  </thead>\n",
       "  <tbody>\n",
       "    <tr>\n",
       "      <th>0</th>\n",
       "      <td>0</td>\n",
       "      <td>1</td>\n",
       "      <td>1</td>\n",
       "      <td>1</td>\n",
       "      <td>1</td>\n",
       "    </tr>\n",
       "    <tr>\n",
       "      <th>1</th>\n",
       "      <td>1</td>\n",
       "      <td>2</td>\n",
       "      <td>2</td>\n",
       "      <td>2</td>\n",
       "      <td>2</td>\n",
       "    </tr>\n",
       "    <tr>\n",
       "      <th>2</th>\n",
       "      <td>2</td>\n",
       "      <td>3</td>\n",
       "      <td>3</td>\n",
       "      <td>3</td>\n",
       "      <td>3</td>\n",
       "    </tr>\n",
       "    <tr>\n",
       "      <th>3</th>\n",
       "      <td>3</td>\n",
       "      <td>4</td>\n",
       "      <td>4</td>\n",
       "      <td>4</td>\n",
       "      <td>4</td>\n",
       "    </tr>\n",
       "    <tr>\n",
       "      <th>4</th>\n",
       "      <td>4</td>\n",
       "      <td>5</td>\n",
       "      <td>5</td>\n",
       "      <td>5</td>\n",
       "      <td>5</td>\n",
       "    </tr>\n",
       "  </tbody>\n",
       "</table>\n",
       "</div>"
      ],
      "text/plain": [
       "   Unnamed: 0  A  B  C  D\n",
       "0           0  1  1  1  1\n",
       "1           1  2  2  2  2\n",
       "2           2  3  3  3  3\n",
       "3           3  4  4  4  4\n",
       "4           4  5  5  5  5"
      ]
     },
     "execution_count": 8,
     "metadata": {},
     "output_type": "execute_result"
    }
   ],
   "source": [
    "#When working with an excel file\n",
    "pd.read_excel('Sample_Excel.xlsx', sheet_name='Sheet1')"
   ]
  },
  {
   "cell_type": "markdown",
   "metadata": {},
   "source": [
    "## The Pandas DataReader\n",
    "In order to analyze financial data, we will use the most important and well known libraries on the internet for this purpose, the pandas datareader API as well as googles stock API. The pandas-datareader is a spearate package that allows you to connect to Google's Stock API as well as others, grab data and read it into a dataframe. \n",
    "\n",
    "The link to the [pandas datareader](https://pandas-datareader.readthedocs.io/en/latest/)\n",
    "\n",
    "Functions from pandas_datareader.data and pandas_datareader.wb extract data from various Internet sources into a pandas DataFrame including:\n",
    "\n",
    "* Yahoo! Finance\n",
    "* Google Finance\n",
    "* Enigma\n",
    "* St.Louis FED (FRED)\n",
    "* Kenneth French’s data library\n",
    "* World Bank\n",
    "* OECD\n",
    "* Eurostat\n",
    "* Thrift Savings Plan\n",
    "* Oanda currency historical rate\n",
    "* Nasdaq Trader symbol definitions (remote_data.nasdaq_symbols)\n",
    "\n",
    "It should be noted, that various sources support different kinds of data, so not all sources implement the same methods and the data elements returned might also differ."
   ]
  },
  {
   "cell_type": "markdown",
   "metadata": {},
   "source": [
    "## Alpha Vantage\n",
    "Alpha Vantage is one API among any others. You can find documentation related to the API thorugh the pandas data reader website. To access the API you will need a key, known as an API key. You can procure yourself a key and input it as input to the parameter \"api_key\". [Find your API Key](https://www.alphavantage.co/)"
   ]
  },
  {
   "cell_type": "code",
   "execution_count": 7,
   "metadata": {},
   "outputs": [],
   "source": [
    "#Gather imports\n",
    "import os\n",
    "from datetime import datetime\n",
    "import pandas_datareader.data as web\n",
    "\n",
    "facebook = web.DataReader(\"FB\", \"av-daily\", \n",
    "                   start=datetime(2018, 2, 9), \n",
    "                   end = datetime(2021,3,9),\n",
    "                   api_key='INSERT_API_KEY_HERE')"
   ]
  },
  {
   "cell_type": "code",
   "execution_count": 8,
   "metadata": {},
   "outputs": [
    {
     "data": {
      "text/html": [
       "<div>\n",
       "<style scoped>\n",
       "    .dataframe tbody tr th:only-of-type {\n",
       "        vertical-align: middle;\n",
       "    }\n",
       "\n",
       "    .dataframe tbody tr th {\n",
       "        vertical-align: top;\n",
       "    }\n",
       "\n",
       "    .dataframe thead th {\n",
       "        text-align: right;\n",
       "    }\n",
       "</style>\n",
       "<table border=\"1\" class=\"dataframe\">\n",
       "  <thead>\n",
       "    <tr style=\"text-align: right;\">\n",
       "      <th></th>\n",
       "      <th>open</th>\n",
       "      <th>high</th>\n",
       "      <th>low</th>\n",
       "      <th>close</th>\n",
       "      <th>volume</th>\n",
       "    </tr>\n",
       "  </thead>\n",
       "  <tbody>\n",
       "    <tr>\n",
       "      <th>2018-02-09</th>\n",
       "      <td>174.76</td>\n",
       "      <td>176.900</td>\n",
       "      <td>167.1800</td>\n",
       "      <td>176.11</td>\n",
       "      <td>37214470</td>\n",
       "    </tr>\n",
       "    <tr>\n",
       "      <th>2018-02-12</th>\n",
       "      <td>177.06</td>\n",
       "      <td>177.545</td>\n",
       "      <td>171.8400</td>\n",
       "      <td>176.41</td>\n",
       "      <td>31697374</td>\n",
       "    </tr>\n",
       "    <tr>\n",
       "      <th>2018-02-13</th>\n",
       "      <td>175.62</td>\n",
       "      <td>175.970</td>\n",
       "      <td>173.1000</td>\n",
       "      <td>173.15</td>\n",
       "      <td>20880702</td>\n",
       "    </tr>\n",
       "    <tr>\n",
       "      <th>2018-02-14</th>\n",
       "      <td>173.45</td>\n",
       "      <td>179.810</td>\n",
       "      <td>173.2119</td>\n",
       "      <td>179.52</td>\n",
       "      <td>27963758</td>\n",
       "    </tr>\n",
       "    <tr>\n",
       "      <th>2018-02-15</th>\n",
       "      <td>180.50</td>\n",
       "      <td>180.500</td>\n",
       "      <td>176.8400</td>\n",
       "      <td>179.96</td>\n",
       "      <td>20554092</td>\n",
       "    </tr>\n",
       "  </tbody>\n",
       "</table>\n",
       "</div>"
      ],
      "text/plain": [
       "              open     high       low   close    volume\n",
       "2018-02-09  174.76  176.900  167.1800  176.11  37214470\n",
       "2018-02-12  177.06  177.545  171.8400  176.41  31697374\n",
       "2018-02-13  175.62  175.970  173.1000  173.15  20880702\n",
       "2018-02-14  173.45  179.810  173.2119  179.52  27963758\n",
       "2018-02-15  180.50  180.500  176.8400  179.96  20554092"
      ]
     },
     "execution_count": 8,
     "metadata": {},
     "output_type": "execute_result"
    }
   ],
   "source": [
    "#This will onyl work if you have created and inserted an API key above\n",
    "#Do it, its super quick :)\n",
    "facebook.head()"
   ]
  },
  {
   "cell_type": "markdown",
   "metadata": {},
   "source": [
    "### Other sources\n",
    "AlphaVantage has plenty of data avaialble. If you want to explore other datasets, maybe for more macro related research, look for the Fed's API. "
   ]
  },
  {
   "cell_type": "markdown",
   "metadata": {},
   "source": [
    "## Data Reader\n",
    "One can use the datareader directly and obtain data from the diffrent sources listed above"
   ]
  },
  {
   "cell_type": "code",
   "execution_count": 9,
   "metadata": {},
   "outputs": [],
   "source": [
    "import pandas_datareader.data as web\n",
    "import datetime\n",
    "\n",
    "start = datetime.datetime(2000, 1, 1)\n",
    "end = datetime.datetime(2020, 1, 1)\n",
    "gdp = web.DataReader(\"GDP\", \"fred\", start, end)"
   ]
  },
  {
   "cell_type": "code",
   "execution_count": 10,
   "metadata": {},
   "outputs": [
    {
     "data": {
      "text/html": [
       "<div>\n",
       "<style scoped>\n",
       "    .dataframe tbody tr th:only-of-type {\n",
       "        vertical-align: middle;\n",
       "    }\n",
       "\n",
       "    .dataframe tbody tr th {\n",
       "        vertical-align: top;\n",
       "    }\n",
       "\n",
       "    .dataframe thead th {\n",
       "        text-align: right;\n",
       "    }\n",
       "</style>\n",
       "<table border=\"1\" class=\"dataframe\">\n",
       "  <thead>\n",
       "    <tr style=\"text-align: right;\">\n",
       "      <th></th>\n",
       "      <th>GDP</th>\n",
       "    </tr>\n",
       "    <tr>\n",
       "      <th>DATE</th>\n",
       "      <th></th>\n",
       "    </tr>\n",
       "  </thead>\n",
       "  <tbody>\n",
       "    <tr>\n",
       "      <th>2000-01-01</th>\n",
       "      <td>10002.179</td>\n",
       "    </tr>\n",
       "    <tr>\n",
       "      <th>2000-04-01</th>\n",
       "      <td>10247.720</td>\n",
       "    </tr>\n",
       "    <tr>\n",
       "      <th>2000-07-01</th>\n",
       "      <td>10318.165</td>\n",
       "    </tr>\n",
       "    <tr>\n",
       "      <th>2000-10-01</th>\n",
       "      <td>10435.744</td>\n",
       "    </tr>\n",
       "    <tr>\n",
       "      <th>2001-01-01</th>\n",
       "      <td>10470.231</td>\n",
       "    </tr>\n",
       "  </tbody>\n",
       "</table>\n",
       "</div>"
      ],
      "text/plain": [
       "                  GDP\n",
       "DATE                 \n",
       "2000-01-01  10002.179\n",
       "2000-04-01  10247.720\n",
       "2000-07-01  10318.165\n",
       "2000-10-01  10435.744\n",
       "2001-01-01  10470.231"
      ]
     },
     "execution_count": 10,
     "metadata": {},
     "output_type": "execute_result"
    }
   ],
   "source": [
    "#Twenty years of data, two clicks\n",
    "gdp.head()"
   ]
  },
  {
   "cell_type": "markdown",
   "metadata": {},
   "source": [
    "## Quandl \n",
    "Quandl is a company that gathers various typed of financial datasets. Alot of their data requires paid membership, but alot of it is free too.\n",
    "\n",
    "https://www.quandl.com/tools/python\n",
    "\n",
    "First you will need to get quandl on your computer. Do this by pip installing quandl.\n",
    "\n",
    "`pip install quandl`\n",
    "\n",
    "Next, access the quandl website using [this link](https://www.quandl.com/data/NASDAQOMX/NQUSB-NASDAQ-US-Benchmark-Index-NQUSB). I have led you specifically to the data set I will be using, but please explore the website for yourself and find any data you would like to use, there is plenty on there.\n",
    "\n",
    "Once you have found your dataset, make sure to click on Python next to libraries on the quandl website to get the exact command you will need to import the dataset."
   ]
  },
  {
   "cell_type": "code",
   "execution_count": 11,
   "metadata": {},
   "outputs": [],
   "source": [
    "import quandl\n",
    "import matplotlib.pyplot as plt"
   ]
  },
  {
   "cell_type": "code",
   "execution_count": 12,
   "metadata": {},
   "outputs": [],
   "source": [
    "#We will be using NASDAQ index\n",
    "nasdaq = quandl.get(\"NASDAQOMX/NQUSB\", authtoken=\"NCw1QH8fycdkQE33zC3b\", start_date=\"2010-01-01\", end_date=\"2021-07-01\")"
   ]
  },
  {
   "cell_type": "code",
   "execution_count": 13,
   "metadata": {},
   "outputs": [
    {
     "data": {
      "text/html": [
       "<div>\n",
       "<style scoped>\n",
       "    .dataframe tbody tr th:only-of-type {\n",
       "        vertical-align: middle;\n",
       "    }\n",
       "\n",
       "    .dataframe tbody tr th {\n",
       "        vertical-align: top;\n",
       "    }\n",
       "\n",
       "    .dataframe thead th {\n",
       "        text-align: right;\n",
       "    }\n",
       "</style>\n",
       "<table border=\"1\" class=\"dataframe\">\n",
       "  <thead>\n",
       "    <tr style=\"text-align: right;\">\n",
       "      <th></th>\n",
       "      <th>Index Value</th>\n",
       "      <th>High</th>\n",
       "      <th>Low</th>\n",
       "      <th>Total Market Value</th>\n",
       "      <th>Dividend Market Value</th>\n",
       "    </tr>\n",
       "    <tr>\n",
       "      <th>Trade Date</th>\n",
       "      <th></th>\n",
       "      <th></th>\n",
       "      <th></th>\n",
       "      <th></th>\n",
       "      <th></th>\n",
       "    </tr>\n",
       "  </thead>\n",
       "  <tbody>\n",
       "    <tr>\n",
       "      <th>2011-05-16</th>\n",
       "      <td>992.73</td>\n",
       "      <td>1004.03</td>\n",
       "      <td>991.42</td>\n",
       "      <td>1.497199e+13</td>\n",
       "      <td>9.273099e+08</td>\n",
       "    </tr>\n",
       "    <tr>\n",
       "      <th>2011-05-17</th>\n",
       "      <td>991.47</td>\n",
       "      <td>993.01</td>\n",
       "      <td>984.02</td>\n",
       "      <td>1.495300e+13</td>\n",
       "      <td>3.330181e+09</td>\n",
       "    </tr>\n",
       "    <tr>\n",
       "      <th>2011-05-18</th>\n",
       "      <td>1001.30</td>\n",
       "      <td>1002.04</td>\n",
       "      <td>990.20</td>\n",
       "      <td>1.510129e+13</td>\n",
       "      <td>2.475359e+09</td>\n",
       "    </tr>\n",
       "    <tr>\n",
       "      <th>2011-05-19</th>\n",
       "      <td>1003.45</td>\n",
       "      <td>1006.14</td>\n",
       "      <td>997.77</td>\n",
       "      <td>1.513367e+13</td>\n",
       "      <td>1.109318e+09</td>\n",
       "    </tr>\n",
       "    <tr>\n",
       "      <th>2011-05-20</th>\n",
       "      <td>996.00</td>\n",
       "      <td>1002.16</td>\n",
       "      <td>993.42</td>\n",
       "      <td>1.502122e+13</td>\n",
       "      <td>1.242103e+08</td>\n",
       "    </tr>\n",
       "  </tbody>\n",
       "</table>\n",
       "</div>"
      ],
      "text/plain": [
       "            Index Value     High     Low  Total Market Value  \\\n",
       "Trade Date                                                     \n",
       "2011-05-16       992.73  1004.03  991.42        1.497199e+13   \n",
       "2011-05-17       991.47   993.01  984.02        1.495300e+13   \n",
       "2011-05-18      1001.30  1002.04  990.20        1.510129e+13   \n",
       "2011-05-19      1003.45  1006.14  997.77        1.513367e+13   \n",
       "2011-05-20       996.00  1002.16  993.42        1.502122e+13   \n",
       "\n",
       "            Dividend Market Value  \n",
       "Trade Date                         \n",
       "2011-05-16           9.273099e+08  \n",
       "2011-05-17           3.330181e+09  \n",
       "2011-05-18           2.475359e+09  \n",
       "2011-05-19           1.109318e+09  \n",
       "2011-05-20           1.242103e+08  "
      ]
     },
     "execution_count": 13,
     "metadata": {},
     "output_type": "execute_result"
    }
   ],
   "source": [
    "nasdaq.head()"
   ]
  },
  {
   "cell_type": "code",
   "execution_count": 14,
   "metadata": {},
   "outputs": [
    {
     "data": {
      "text/plain": [
       "Text(0.5, 1.0, 'NASDAQ Historical Value')"
      ]
     },
     "execution_count": 14,
     "metadata": {},
     "output_type": "execute_result"
    },
    {
     "data": {
      "image/png": "[encoded data removed]",
      "text/plain": [
       "<Figure size 432x288 with 1 Axes>"
      ]
     },
     "metadata": {
      "needs_background": "light"
     },
     "output_type": "display_data"
    }
   ],
   "source": [
    "fig = plt.figure()\n",
    "\n",
    "axes = fig.add_axes([0.1, 0.1, 0.9, 0.9]) # left, bottom, width, height (range 0 to 1)\n",
    "\n",
    "axes.plot(nasdaq.index ,nasdaq['Index Value'])\n",
    "axes.set_xlabel('Date') # Notice the use of set_ to begin methods\n",
    "axes.set_ylabel('Index')\n",
    "axes.set_title('NASDAQ Historical Value')"
   ]
  },
  {
   "cell_type": "code",
   "execution_count": 15,
   "metadata": {},
   "outputs": [],
   "source": [
    "#Get data for any stock using get, wiki and the stock ticker\n",
    "AAPL = quandl.get(\"WIKI/AAPL\")"
   ]
  },
  {
   "cell_type": "code",
   "execution_count": 16,
   "metadata": {},
   "outputs": [
    {
     "data": {
      "text/html": [
       "<div>\n",
       "<style scoped>\n",
       "    .dataframe tbody tr th:only-of-type {\n",
       "        vertical-align: middle;\n",
       "    }\n",
       "\n",
       "    .dataframe tbody tr th {\n",
       "        vertical-align: top;\n",
       "    }\n",
       "\n",
       "    .dataframe thead th {\n",
       "        text-align: right;\n",
       "    }\n",
       "</style>\n",
       "<table border=\"1\" class=\"dataframe\">\n",
       "  <thead>\n",
       "    <tr style=\"text-align: right;\">\n",
       "      <th></th>\n",
       "      <th>Open</th>\n",
       "      <th>High</th>\n",
       "      <th>Low</th>\n",
       "      <th>Close</th>\n",
       "      <th>Volume</th>\n",
       "      <th>Ex-Dividend</th>\n",
       "      <th>Split Ratio</th>\n",
       "      <th>Adj. Open</th>\n",
       "      <th>Adj. High</th>\n",
       "      <th>Adj. Low</th>\n",
       "      <th>Adj. Close</th>\n",
       "      <th>Adj. Volume</th>\n",
       "    </tr>\n",
       "    <tr>\n",
       "      <th>Date</th>\n",
       "      <th></th>\n",
       "      <th></th>\n",
       "      <th></th>\n",
       "      <th></th>\n",
       "      <th></th>\n",
       "      <th></th>\n",
       "      <th></th>\n",
       "      <th></th>\n",
       "      <th></th>\n",
       "      <th></th>\n",
       "      <th></th>\n",
       "      <th></th>\n",
       "    </tr>\n",
       "  </thead>\n",
       "  <tbody>\n",
       "    <tr>\n",
       "      <th>1980-12-12</th>\n",
       "      <td>28.75</td>\n",
       "      <td>28.87</td>\n",
       "      <td>28.75</td>\n",
       "      <td>28.75</td>\n",
       "      <td>2093900.0</td>\n",
       "      <td>0.0</td>\n",
       "      <td>1.0</td>\n",
       "      <td>0.422706</td>\n",
       "      <td>0.424470</td>\n",
       "      <td>0.422706</td>\n",
       "      <td>0.422706</td>\n",
       "      <td>117258400.0</td>\n",
       "    </tr>\n",
       "    <tr>\n",
       "      <th>1980-12-15</th>\n",
       "      <td>27.38</td>\n",
       "      <td>27.38</td>\n",
       "      <td>27.25</td>\n",
       "      <td>27.25</td>\n",
       "      <td>785200.0</td>\n",
       "      <td>0.0</td>\n",
       "      <td>1.0</td>\n",
       "      <td>0.402563</td>\n",
       "      <td>0.402563</td>\n",
       "      <td>0.400652</td>\n",
       "      <td>0.400652</td>\n",
       "      <td>43971200.0</td>\n",
       "    </tr>\n",
       "    <tr>\n",
       "      <th>1980-12-16</th>\n",
       "      <td>25.37</td>\n",
       "      <td>25.37</td>\n",
       "      <td>25.25</td>\n",
       "      <td>25.25</td>\n",
       "      <td>472000.0</td>\n",
       "      <td>0.0</td>\n",
       "      <td>1.0</td>\n",
       "      <td>0.373010</td>\n",
       "      <td>0.373010</td>\n",
       "      <td>0.371246</td>\n",
       "      <td>0.371246</td>\n",
       "      <td>26432000.0</td>\n",
       "    </tr>\n",
       "    <tr>\n",
       "      <th>1980-12-17</th>\n",
       "      <td>25.87</td>\n",
       "      <td>26.00</td>\n",
       "      <td>25.87</td>\n",
       "      <td>25.87</td>\n",
       "      <td>385900.0</td>\n",
       "      <td>0.0</td>\n",
       "      <td>1.0</td>\n",
       "      <td>0.380362</td>\n",
       "      <td>0.382273</td>\n",
       "      <td>0.380362</td>\n",
       "      <td>0.380362</td>\n",
       "      <td>21610400.0</td>\n",
       "    </tr>\n",
       "    <tr>\n",
       "      <th>1980-12-18</th>\n",
       "      <td>26.63</td>\n",
       "      <td>26.75</td>\n",
       "      <td>26.63</td>\n",
       "      <td>26.63</td>\n",
       "      <td>327900.0</td>\n",
       "      <td>0.0</td>\n",
       "      <td>1.0</td>\n",
       "      <td>0.391536</td>\n",
       "      <td>0.393300</td>\n",
       "      <td>0.391536</td>\n",
       "      <td>0.391536</td>\n",
       "      <td>18362400.0</td>\n",
       "    </tr>\n",
       "  </tbody>\n",
       "</table>\n",
       "</div>"
      ],
      "text/plain": [
       "             Open   High    Low  Close     Volume  Ex-Dividend  Split Ratio  \\\n",
       "Date                                                                          \n",
       "1980-12-12  28.75  28.87  28.75  28.75  2093900.0          0.0          1.0   \n",
       "1980-12-15  27.38  27.38  27.25  27.25   785200.0          0.0          1.0   \n",
       "1980-12-16  25.37  25.37  25.25  25.25   472000.0          0.0          1.0   \n",
       "1980-12-17  25.87  26.00  25.87  25.87   385900.0          0.0          1.0   \n",
       "1980-12-18  26.63  26.75  26.63  26.63   327900.0          0.0          1.0   \n",
       "\n",
       "            Adj. Open  Adj. High  Adj. Low  Adj. Close  Adj. Volume  \n",
       "Date                                                                 \n",
       "1980-12-12   0.422706   0.424470  0.422706    0.422706  117258400.0  \n",
       "1980-12-15   0.402563   0.402563  0.400652    0.400652   43971200.0  \n",
       "1980-12-16   0.373010   0.373010  0.371246    0.371246   26432000.0  \n",
       "1980-12-17   0.380362   0.382273  0.380362    0.380362   21610400.0  \n",
       "1980-12-18   0.391536   0.393300  0.391536    0.391536   18362400.0  "
      ]
     },
     "execution_count": 16,
     "metadata": {},
     "output_type": "execute_result"
    }
   ],
   "source": [
    "AAPL.head()"
   ]
  },
  {
   "cell_type": "code",
   "execution_count": 17,
   "metadata": {},
   "outputs": [
    {
     "data": {
      "text/html": [
       "<div>\n",
       "<style scoped>\n",
       "    .dataframe tbody tr th:only-of-type {\n",
       "        vertical-align: middle;\n",
       "    }\n",
       "\n",
       "    .dataframe tbody tr th {\n",
       "        vertical-align: top;\n",
       "    }\n",
       "\n",
       "    .dataframe thead th {\n",
       "        text-align: right;\n",
       "    }\n",
       "</style>\n",
       "<table border=\"1\" class=\"dataframe\">\n",
       "  <thead>\n",
       "    <tr style=\"text-align: right;\">\n",
       "      <th></th>\n",
       "      <th>Open</th>\n",
       "    </tr>\n",
       "    <tr>\n",
       "      <th>Date</th>\n",
       "      <th></th>\n",
       "    </tr>\n",
       "  </thead>\n",
       "  <tbody>\n",
       "    <tr>\n",
       "      <th>1980-12-12</th>\n",
       "      <td>28.75</td>\n",
       "    </tr>\n",
       "    <tr>\n",
       "      <th>1980-12-15</th>\n",
       "      <td>27.38</td>\n",
       "    </tr>\n",
       "    <tr>\n",
       "      <th>1980-12-16</th>\n",
       "      <td>25.37</td>\n",
       "    </tr>\n",
       "    <tr>\n",
       "      <th>1980-12-17</th>\n",
       "      <td>25.87</td>\n",
       "    </tr>\n",
       "    <tr>\n",
       "      <th>1980-12-18</th>\n",
       "      <td>26.63</td>\n",
       "    </tr>\n",
       "  </tbody>\n",
       "</table>\n",
       "</div>"
      ],
      "text/plain": [
       "             Open\n",
       "Date             \n",
       "1980-12-12  28.75\n",
       "1980-12-15  27.38\n",
       "1980-12-16  25.37\n",
       "1980-12-17  25.87\n",
       "1980-12-18  26.63"
      ]
     },
     "execution_count": 17,
     "metadata": {},
     "output_type": "execute_result"
    }
   ],
   "source": [
    "#Grab a single column\n",
    "AAPL = quandl.get(\"WIKI/AAPL.1\")\n",
    "AAPL.head()"
   ]
  },
  {
   "cell_type": "markdown",
   "metadata": {},
   "source": [
    "### Note on data\n",
    "As you can see, its pretty much easy as ever to obtain these datasets. Professional firms have increasingly stopped looking to find edge in basic datasets. You can bet your bottom dollar that any strategy you will learn about in school, any indicator you know about, has most likely been tested on these datasets. All this to say, these datasets dont really have any edge left in them. You can do plenty of really cool things with them, but in the context of trading, it is likely you will need a more original approach than a basic strategy on an edgeless data set to make big money."
   ]
  },
  {
   "cell_type": "markdown",
   "metadata": {},
   "source": [
    "### See you in the next one!\n",
    "\n",
    "### - Your MSTS Team"
   ]
  }
 ],
 "metadata": {
  "kernelspec": {
   "display_name": "Python 3",
   "language": "python",
   "name": "python3"
  },
  "language_info": {
   "codemirror_mode": {
    "name": "ipython",
    "version": 3
   },
   "file_extension": ".py",
   "mimetype": "text/x-python",
   "name": "python",
   "nbconvert_exporter": "python",
   "pygments_lexer": "ipython3",
   "version": "3.8.5"
  },
  "metadata": {
   "interpreter": {
    "hash": "aee8b7b246df8f9039afb4144a1f6fd8d2ca17a180786b69acc140d282b71a49"
   }
  }
 },
 "nbformat": 4,
 "nbformat_minor": 4
}
